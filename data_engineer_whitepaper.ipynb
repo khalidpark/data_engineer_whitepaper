{
  "nbformat": 4,
  "nbformat_minor": 0,
  "metadata": {
    "colab": {
      "name": "data_engineer_whitepaper.ipynb",
      "provenance": [],
      "collapsed_sections": [],
      "toc_visible": true,
      "authorship_tag": "ABX9TyOHt8JK/KN1/IfJU6VMavE+",
      "include_colab_link": true
    },
    "kernelspec": {
      "name": "python3",
      "display_name": "Python 3"
    },
    "language_info": {
      "name": "python"
    }
  },
  "cells": [
    {
      "cell_type": "markdown",
      "metadata": {
        "id": "view-in-github",
        "colab_type": "text"
      },
      "source": [
        "<a href=\"https://colab.research.google.com/github/khalidpark/data_engineer_whitepaper/blob/main/data_engineer_whitepaper.ipynb\" target=\"_parent\"><img src=\"https://colab.research.google.com/assets/colab-badge.svg\" alt=\"Open In Colab\"/></a>"
      ]
    },
    {
      "cell_type": "markdown",
      "metadata": {
        "id": "9lCHAKy18-AP"
      },
      "source": [
        "# 데이터셋 불러오기"
      ]
    },
    {
      "cell_type": "markdown",
      "metadata": {
        "id": "3ERtcaQB9BSi"
      },
      "source": [
        "## pd.read_csv"
      ]
    },
    {
      "cell_type": "code",
      "metadata": {
        "id": "03FdsBnTmpGz"
      },
      "source": [
        "ktng_data_url = 'https://ds-lecture-data.s3.ap-northeast-2.amazonaws.com/kt%26g/kt%26g_0.csv'"
      ],
      "execution_count": 1,
      "outputs": []
    },
    {
      "cell_type": "code",
      "metadata": {
        "colab": {
          "base_uri": "https://localhost:8080/",
          "height": 202
        },
        "id": "de7Je1OI877n",
        "outputId": "ff9ce8f8-4008-49ce-d5f0-6299fcf824aa"
      },
      "source": [
        "import pandas as pd\n",
        "\n",
        "df = pd.read_csv(ktng_data_url) # pd라이브러리의 read_csv를 사용하여 ktng_data_url에 있는 데이터를 읽고, df라는 변수에 저장\n",
        "\n",
        "df.head()\n"
      ],
      "execution_count": 2,
      "outputs": [
        {
          "output_type": "execute_result",
          "data": {
            "text/html": [
              "<div>\n",
              "<style scoped>\n",
              "    .dataframe tbody tr th:only-of-type {\n",
              "        vertical-align: middle;\n",
              "    }\n",
              "\n",
              "    .dataframe tbody tr th {\n",
              "        vertical-align: top;\n",
              "    }\n",
              "\n",
              "    .dataframe thead th {\n",
              "        text-align: right;\n",
              "    }\n",
              "</style>\n",
              "<table border=\"1\" class=\"dataframe\">\n",
              "  <thead>\n",
              "    <tr style=\"text-align: right;\">\n",
              "      <th></th>\n",
              "      <th>19/6</th>\n",
              "      <th>12,578</th>\n",
              "      <th>3,991</th>\n",
              "      <th>3,991.1</th>\n",
              "      <th>4,452</th>\n",
              "      <th>3,245</th>\n",
              "      <th>3,228</th>\n",
              "      <th>17</th>\n",
              "      <th>108,464</th>\n",
              "      <th>25,940</th>\n",
              "      <th>82,524</th>\n",
              "      <th>81,965</th>\n",
              "      <th>Unnamed: 12</th>\n",
              "      <th>9,550</th>\n",
              "      <th>4,641</th>\n",
              "      <th>-1,878</th>\n",
              "      <th>-4,919</th>\n",
              "      <th>31.73</th>\n",
              "      <th>25.80</th>\n",
              "      <th>12.35</th>\n",
              "      <th>9.37</th>\n",
              "      <th>31.43</th>\n",
              "      <th>803.22</th>\n",
              "      <th>2,351</th>\n",
              "      <th>13.77</th>\n",
              "    </tr>\n",
              "  </thead>\n",
              "  <tbody>\n",
              "    <tr>\n",
              "      <th>0</th>\n",
              "      <td>19/9</td>\n",
              "      <td>13,222</td>\n",
              "      <td>3,825</td>\n",
              "      <td>3,825</td>\n",
              "      <td>4,503</td>\n",
              "      <td>3,221</td>\n",
              "      <td>3,208</td>\n",
              "      <td>13</td>\n",
              "      <td>106,314</td>\n",
              "      <td>20,691</td>\n",
              "      <td>85,623</td>\n",
              "      <td>85,049</td>\n",
              "      <td>NaN</td>\n",
              "      <td>9,550</td>\n",
              "      <td>-2,278</td>\n",
              "      <td>-83</td>\n",
              "      <td>-329</td>\n",
              "      <td>28.93</td>\n",
              "      <td>24.36</td>\n",
              "      <td>12.67</td>\n",
              "      <td>9.95</td>\n",
              "      <td>24.17</td>\n",
              "      <td>836.86</td>\n",
              "      <td>2,337</td>\n",
              "      <td>13.87</td>\n",
              "    </tr>\n",
              "    <tr>\n",
              "      <th>1</th>\n",
              "      <td>19/12</td>\n",
              "      <td>11,982</td>\n",
              "      <td>2,523</td>\n",
              "      <td>2,523</td>\n",
              "      <td>1,794</td>\n",
              "      <td>1,183</td>\n",
              "      <td>1,198</td>\n",
              "      <td>-15</td>\n",
              "      <td>107,121</td>\n",
              "      <td>20,062</td>\n",
              "      <td>87,059</td>\n",
              "      <td>86,506</td>\n",
              "      <td>NaN</td>\n",
              "      <td>9,550</td>\n",
              "      <td>837</td>\n",
              "      <td>-501</td>\n",
              "      <td>-129</td>\n",
              "      <td>21.06</td>\n",
              "      <td>9.87</td>\n",
              "      <td>12.39</td>\n",
              "      <td>9.96</td>\n",
              "      <td>23.04</td>\n",
              "      <td>850.82</td>\n",
              "      <td>873</td>\n",
              "      <td>12.42</td>\n",
              "    </tr>\n",
              "    <tr>\n",
              "      <th>2</th>\n",
              "      <td>20/3</td>\n",
              "      <td>11,784</td>\n",
              "      <td>3,150</td>\n",
              "      <td>3,150</td>\n",
              "      <td>4,156</td>\n",
              "      <td>2,939</td>\n",
              "      <td>2,930</td>\n",
              "      <td>9</td>\n",
              "      <td>108,594</td>\n",
              "      <td>24,862</td>\n",
              "      <td>83,732</td>\n",
              "      <td>83,170</td>\n",
              "      <td>562.0</td>\n",
              "      <td>9,550</td>\n",
              "      <td>2,336</td>\n",
              "      <td>-1,392</td>\n",
              "      <td>-86</td>\n",
              "      <td>26.73</td>\n",
              "      <td>24.94</td>\n",
              "      <td>13.05</td>\n",
              "      <td>9.79</td>\n",
              "      <td>29.69</td>\n",
              "      <td>823.16</td>\n",
              "      <td>2,134</td>\n",
              "      <td>9.71</td>\n",
              "    </tr>\n",
              "    <tr>\n",
              "      <th>3</th>\n",
              "      <td>20/6</td>\n",
              "      <td>13,188</td>\n",
              "      <td>3,947</td>\n",
              "      <td>3,947</td>\n",
              "      <td>4,020</td>\n",
              "      <td>2,935</td>\n",
              "      <td>2,931</td>\n",
              "      <td>4</td>\n",
              "      <td>110,282</td>\n",
              "      <td>23,386</td>\n",
              "      <td>86,896</td>\n",
              "      <td>86,330</td>\n",
              "      <td>566.0</td>\n",
              "      <td>9,550</td>\n",
              "      <td>7,855</td>\n",
              "      <td>-214</td>\n",
              "      <td>-5,501</td>\n",
              "      <td>29.93</td>\n",
              "      <td>22.25</td>\n",
              "      <td>12.20</td>\n",
              "      <td>9.40</td>\n",
              "      <td>26.91</td>\n",
              "      <td>837.40</td>\n",
              "      <td>2,135</td>\n",
              "      <td>10.46</td>\n",
              "    </tr>\n",
              "  </tbody>\n",
              "</table>\n",
              "</div>"
            ],
            "text/plain": [
              "    19/6  12,578  3,991 3,991.1  4,452  ...  9.37  31.43  803.22  2,351  13.77\n",
              "0   19/9  13,222  3,825   3,825  4,503  ...  9.95  24.17  836.86  2,337  13.87\n",
              "1  19/12  11,982  2,523   2,523  1,794  ...  9.96  23.04  850.82    873  12.42\n",
              "2   20/3  11,784  3,150   3,150  4,156  ...  9.79  29.69  823.16  2,134   9.71\n",
              "3   20/6  13,188  3,947   3,947  4,020  ...  9.40  26.91  837.40  2,135  10.46\n",
              "\n",
              "[4 rows x 25 columns]"
            ]
          },
          "metadata": {
            "tags": []
          },
          "execution_count": 2
        }
      ]
    },
    {
      "cell_type": "markdown",
      "metadata": {
        "id": "E8CysN7a9VAw"
      },
      "source": [
        "## df.shape"
      ]
    },
    {
      "cell_type": "markdown",
      "metadata": {
        "id": "VbXpbm7N9Y1n"
      },
      "source": [
        "## dataframe column 지정"
      ]
    },
    {
      "cell_type": "code",
      "metadata": {
        "colab": {
          "base_uri": "https://localhost:8080/"
        },
        "id": "DFT1cDmY9Pv1",
        "outputId": "cd40dd32-cd02-48fe-d009-703d81058a99"
      },
      "source": [
        "column_headers = ['분기','매출액','영업이익','영업이익(발표기준)','세전계속사업이익',\n",
        "                  '당기순이익','당기순이익(지배)','당기순이익(비지배)','자산총계','부채총계',\n",
        "                  '자본총계','자본총계(지배)','자본총계(비지배)','자본금','영업활동현금흐름',\n",
        "                  '투자활동현금흐름','재무활동현금흐름','영업이익률','순이익률','ROE(%)',\n",
        "                  'ROA(%)','부채비율','자본유보율','EPS(원)','PER(배)']\n",
        "\n",
        "df = pd.read_csv(ktng_data_url, names = column_headers)\n",
        "\n",
        "print(df.head())\n",
        "print(df.shape)\n"
      ],
      "execution_count": 4,
      "outputs": [
        {
          "output_type": "stream",
          "text": [
            "      분기     매출액   영업이익 영업이익(발표기준)  ...   부채비율   자본유보율 EPS(원)  PER(배)\n",
            "0   19/6  12,578  3,991      3,991  ...  31.43  803.22  2,351   13.77\n",
            "1   19/9  13,222  3,825      3,825  ...  24.17  836.86  2,337   13.87\n",
            "2  19/12  11,982  2,523      2,523  ...  23.04  850.82    873   12.42\n",
            "3   20/3  11,784  3,150      3,150  ...  29.69  823.16  2,134    9.71\n",
            "4   20/6  13,188  3,947      3,947  ...  26.91  837.40  2,135   10.46\n",
            "\n",
            "[5 rows x 25 columns]\n",
            "(5, 25)\n"
          ],
          "name": "stdout"
        }
      ]
    },
    {
      "cell_type": "markdown",
      "metadata": {
        "id": "sQUDHw9o9kmv"
      },
      "source": [
        "# EDA"
      ]
    },
    {
      "cell_type": "markdown",
      "metadata": {
        "id": "0F3BGzeB9t9n"
      },
      "source": [
        "EDA란, 데이터 분석에 있어서 매우 중요한, 초기 분석의 단계를 의미\n",
        "\n",
        "시각화 같은 도구를 통해서 패턴을 발견하거나\n",
        "\n",
        "데이터의 특이성을 확인하거나\n",
        "\n",
        "통계와 그래픽 (혹은 시각적 표현)을 통해서 가설을 검정하는 과정 등을 포함"
      ]
    },
    {
      "cell_type": "markdown",
      "metadata": {
        "id": "g_7vrOXG-lVT"
      },
      "source": [
        "EDA의 방법은 크게 2가지 (Graphic, Non-Graphic) 으로 나눠질 수 있으며\n",
        "\n",
        " EDA의 \"타겟\"(데이터) 또한 2가지 (Univariate, Multi-variate)로 나눠집니다."
      ]
    },
    {
      "cell_type": "markdown",
      "metadata": {
        "id": "SpAAl02f-onJ"
      },
      "source": [
        "## Uni - Non Graphic"
      ]
    },
    {
      "cell_type": "markdown",
      "metadata": {
        "id": "tirsKcLK-u45"
      },
      "source": [
        "Numeric data의 경우 summary statistics\n",
        "\n",
        "Categorical data의 경우 occurence, frequency, tabulation"
      ]
    },
    {
      "cell_type": "markdown",
      "metadata": {
        "id": "3xCjQejr_M2m"
      },
      "source": [
        "## Uni - Graphic"
      ]
    },
    {
      "cell_type": "markdown",
      "metadata": {
        "id": "VKVLeIRi_QSy"
      },
      "source": [
        "Histogram 혹은 Pie chart, Stem-leaf plot, Boxplot, QQplot"
      ]
    },
    {
      "cell_type": "markdown",
      "metadata": {
        "id": "c-bKteZT_QyY"
      },
      "source": [
        "## Multi uni - Non Graphic"
      ]
    },
    {
      "cell_type": "markdown",
      "metadata": {
        "id": "GD4wsIA3_Wj6"
      },
      "source": [
        "Relationship을 보는 것이 주된 목표\n",
        "\n",
        "Cross-Tabulation , Cross-Statistics (Correlation, Covariance)\n"
      ]
    },
    {
      "cell_type": "markdown",
      "metadata": {
        "id": "blRjsLqN_ZOb"
      },
      "source": [
        "## Multi uni - Graphic"
      ]
    },
    {
      "cell_type": "markdown",
      "metadata": {
        "id": "cVYtNDoL_d5W"
      },
      "source": [
        "Category & Numeric : Boxplots, Stacked bar, Parallel Coordinate, Heatmap"
      ]
    },
    {
      "cell_type": "markdown",
      "metadata": {
        "id": "dWKNoXct_lvp"
      },
      "source": [
        "# EDA 이후"
      ]
    },
    {
      "cell_type": "markdown",
      "metadata": {
        "id": "M29CRcfp_xrK"
      },
      "source": [
        "## 데이터 전처리 (Data preprocessing)\n",
        "\n"
      ]
    },
    {
      "cell_type": "markdown",
      "metadata": {
        "id": "QqVfZYyQALza"
      },
      "source": [
        "## cleaning, intergration, transformation, reduction\n",
        "\n",
        "Data Cleaning : noise 를 제거하거나, inconsistency 를 보정하는 과정\n",
        "\n",
        "Data intergration : 여러개로 나누어져 있는 데이터들을 분석하기 편하게 하나로 합치는 과정\n",
        "\n",
        "Data transformation : 데이터의 형태를 변환하는 작업\n",
        "\n",
        "Data reduction : 데이터를 의미있게 줄이는 것"
      ]
    },
    {
      "cell_type": "markdown",
      "metadata": {
        "id": "gdENBhUpAunx"
      },
      "source": [
        "\n",
        "\n",
        "---\n",
        "\n"
      ]
    },
    {
      "cell_type": "markdown",
      "metadata": {
        "id": "UYn8Cl45Iois"
      },
      "source": [
        "# Feature Engineering"
      ]
    },
    {
      "cell_type": "markdown",
      "metadata": {
        "id": "oQDa6AWLJDlm"
      },
      "source": [
        "도메인 지식과 창의성을 바탕으로, 데이터셋에 존재하는 Feature들을 재조합하여 새로운 Feature를 만드는 것"
      ]
    },
    {
      "cell_type": "markdown",
      "metadata": {
        "id": "EAZeq0fJJVn9"
      },
      "source": [
        "# String & Type case"
      ]
    },
    {
      "cell_type": "code",
      "metadata": {
        "id": "vYyp7-XoJy_m"
      },
      "source": [
        "# 입력된 문자열에 대해서 같은 작업을 하는 함수 작성\n",
        "def toInt(string):\n",
        "    return int(string.replace(',',''))"
      ],
      "execution_count": 5,
      "outputs": []
    },
    {
      "cell_type": "code",
      "metadata": {
        "colab": {
          "base_uri": "https://localhost:8080/"
        },
        "id": "Af6tJThIJ1B-",
        "outputId": "4c5a8729-65ef-4336-baea-f59efeec312d"
      },
      "source": [
        "# 예시 데이터를 바탕으로 함수를 테스트\n",
        "toInt('25,970')\n"
      ],
      "execution_count": 6,
      "outputs": [
        {
          "output_type": "execute_result",
          "data": {
            "text/plain": [
              "25970"
            ]
          },
          "metadata": {
            "tags": []
          },
          "execution_count": 6
        }
      ]
    },
    {
      "cell_type": "markdown",
      "metadata": {
        "id": "0Vkf_zZ-J3K7"
      },
      "source": [
        "## df.apply"
      ]
    },
    {
      "cell_type": "code",
      "metadata": {
        "id": "Iz-Sb0MbJ7fV"
      },
      "source": [
        "df['자산2'] = df['자산'].apply(toInt)\n",
        "df"
      ],
      "execution_count": null,
      "outputs": []
    },
    {
      "cell_type": "markdown",
      "metadata": {
        "id": "AiyXQwzZKB-F"
      },
      "source": [
        "\n",
        "\n",
        "---\n",
        "\n"
      ]
    },
    {
      "cell_type": "markdown",
      "metadata": {
        "id": "CGdG_9WXLSN6"
      },
      "source": [
        "# Data Manipulation"
      ]
    },
    {
      "cell_type": "markdown",
      "metadata": {
        "id": "GHtWurbXLVf-"
      },
      "source": [
        "## concat"
      ]
    },
    {
      "cell_type": "code",
      "metadata": {
        "id": "KHtPNzCbLtaX"
      },
      "source": [
        "import pandas as pd\n",
        "x = pd.DataFrame([['AX','AY'],['BX','BY']], index = ['A','B'], columns = ['X','Y'])\n",
        "y = pd.DataFrame([['AX','AZ'],['CX','CZ']], index = ['A','C'], columns = ['X','Z'])\n"
      ],
      "execution_count": 8,
      "outputs": []
    },
    {
      "cell_type": "code",
      "metadata": {
        "colab": {
          "base_uri": "https://localhost:8080/",
          "height": 106
        },
        "id": "GI2upg_kLvKV",
        "outputId": "c7b85242-c117-465a-81b0-273c869ab4e3"
      },
      "source": [
        "x"
      ],
      "execution_count": 9,
      "outputs": [
        {
          "output_type": "execute_result",
          "data": {
            "text/html": [
              "<div>\n",
              "<style scoped>\n",
              "    .dataframe tbody tr th:only-of-type {\n",
              "        vertical-align: middle;\n",
              "    }\n",
              "\n",
              "    .dataframe tbody tr th {\n",
              "        vertical-align: top;\n",
              "    }\n",
              "\n",
              "    .dataframe thead th {\n",
              "        text-align: right;\n",
              "    }\n",
              "</style>\n",
              "<table border=\"1\" class=\"dataframe\">\n",
              "  <thead>\n",
              "    <tr style=\"text-align: right;\">\n",
              "      <th></th>\n",
              "      <th>X</th>\n",
              "      <th>Y</th>\n",
              "    </tr>\n",
              "  </thead>\n",
              "  <tbody>\n",
              "    <tr>\n",
              "      <th>A</th>\n",
              "      <td>AX</td>\n",
              "      <td>AY</td>\n",
              "    </tr>\n",
              "    <tr>\n",
              "      <th>B</th>\n",
              "      <td>BX</td>\n",
              "      <td>BY</td>\n",
              "    </tr>\n",
              "  </tbody>\n",
              "</table>\n",
              "</div>"
            ],
            "text/plain": [
              "    X   Y\n",
              "A  AX  AY\n",
              "B  BX  BY"
            ]
          },
          "metadata": {
            "tags": []
          },
          "execution_count": 9
        }
      ]
    },
    {
      "cell_type": "code",
      "metadata": {
        "colab": {
          "base_uri": "https://localhost:8080/",
          "height": 106
        },
        "id": "qYJHcQgkLw9J",
        "outputId": "6ff4df00-cd1f-43b2-ad94-de4ed5ca8d88"
      },
      "source": [
        "y"
      ],
      "execution_count": 10,
      "outputs": [
        {
          "output_type": "execute_result",
          "data": {
            "text/html": [
              "<div>\n",
              "<style scoped>\n",
              "    .dataframe tbody tr th:only-of-type {\n",
              "        vertical-align: middle;\n",
              "    }\n",
              "\n",
              "    .dataframe tbody tr th {\n",
              "        vertical-align: top;\n",
              "    }\n",
              "\n",
              "    .dataframe thead th {\n",
              "        text-align: right;\n",
              "    }\n",
              "</style>\n",
              "<table border=\"1\" class=\"dataframe\">\n",
              "  <thead>\n",
              "    <tr style=\"text-align: right;\">\n",
              "      <th></th>\n",
              "      <th>X</th>\n",
              "      <th>Z</th>\n",
              "    </tr>\n",
              "  </thead>\n",
              "  <tbody>\n",
              "    <tr>\n",
              "      <th>A</th>\n",
              "      <td>AX</td>\n",
              "      <td>AZ</td>\n",
              "    </tr>\n",
              "    <tr>\n",
              "      <th>C</th>\n",
              "      <td>CX</td>\n",
              "      <td>CZ</td>\n",
              "    </tr>\n",
              "  </tbody>\n",
              "</table>\n",
              "</div>"
            ],
            "text/plain": [
              "    X   Z\n",
              "A  AX  AZ\n",
              "C  CX  CZ"
            ]
          },
          "metadata": {
            "tags": []
          },
          "execution_count": 10
        }
      ]
    },
    {
      "cell_type": "code",
      "metadata": {
        "colab": {
          "base_uri": "https://localhost:8080/",
          "height": 166
        },
        "id": "t4RG0YTmLyJF",
        "outputId": "25d34980-5e7e-420e-febe-7db677a00d91"
      },
      "source": [
        "pd.concat([x, y]) ## concate_by_row\n"
      ],
      "execution_count": 11,
      "outputs": [
        {
          "output_type": "execute_result",
          "data": {
            "text/html": [
              "<div>\n",
              "<style scoped>\n",
              "    .dataframe tbody tr th:only-of-type {\n",
              "        vertical-align: middle;\n",
              "    }\n",
              "\n",
              "    .dataframe tbody tr th {\n",
              "        vertical-align: top;\n",
              "    }\n",
              "\n",
              "    .dataframe thead th {\n",
              "        text-align: right;\n",
              "    }\n",
              "</style>\n",
              "<table border=\"1\" class=\"dataframe\">\n",
              "  <thead>\n",
              "    <tr style=\"text-align: right;\">\n",
              "      <th></th>\n",
              "      <th>X</th>\n",
              "      <th>Y</th>\n",
              "      <th>Z</th>\n",
              "    </tr>\n",
              "  </thead>\n",
              "  <tbody>\n",
              "    <tr>\n",
              "      <th>A</th>\n",
              "      <td>AX</td>\n",
              "      <td>AY</td>\n",
              "      <td>NaN</td>\n",
              "    </tr>\n",
              "    <tr>\n",
              "      <th>B</th>\n",
              "      <td>BX</td>\n",
              "      <td>BY</td>\n",
              "      <td>NaN</td>\n",
              "    </tr>\n",
              "    <tr>\n",
              "      <th>A</th>\n",
              "      <td>AX</td>\n",
              "      <td>NaN</td>\n",
              "      <td>AZ</td>\n",
              "    </tr>\n",
              "    <tr>\n",
              "      <th>C</th>\n",
              "      <td>CX</td>\n",
              "      <td>NaN</td>\n",
              "      <td>CZ</td>\n",
              "    </tr>\n",
              "  </tbody>\n",
              "</table>\n",
              "</div>"
            ],
            "text/plain": [
              "    X    Y    Z\n",
              "A  AX   AY  NaN\n",
              "B  BX   BY  NaN\n",
              "A  AX  NaN   AZ\n",
              "C  CX  NaN   CZ"
            ]
          },
          "metadata": {
            "tags": []
          },
          "execution_count": 11
        }
      ]
    },
    {
      "cell_type": "code",
      "metadata": {
        "colab": {
          "base_uri": "https://localhost:8080/",
          "height": 136
        },
        "id": "0-UXCp92LzZO",
        "outputId": "939921f2-3905-49c5-85ed-15cdd61a56c1"
      },
      "source": [
        "pd.concat([x, y], axis = 1) ## concate_by_column\n"
      ],
      "execution_count": 12,
      "outputs": [
        {
          "output_type": "execute_result",
          "data": {
            "text/html": [
              "<div>\n",
              "<style scoped>\n",
              "    .dataframe tbody tr th:only-of-type {\n",
              "        vertical-align: middle;\n",
              "    }\n",
              "\n",
              "    .dataframe tbody tr th {\n",
              "        vertical-align: top;\n",
              "    }\n",
              "\n",
              "    .dataframe thead th {\n",
              "        text-align: right;\n",
              "    }\n",
              "</style>\n",
              "<table border=\"1\" class=\"dataframe\">\n",
              "  <thead>\n",
              "    <tr style=\"text-align: right;\">\n",
              "      <th></th>\n",
              "      <th>X</th>\n",
              "      <th>Y</th>\n",
              "      <th>X</th>\n",
              "      <th>Z</th>\n",
              "    </tr>\n",
              "  </thead>\n",
              "  <tbody>\n",
              "    <tr>\n",
              "      <th>A</th>\n",
              "      <td>AX</td>\n",
              "      <td>AY</td>\n",
              "      <td>AX</td>\n",
              "      <td>AZ</td>\n",
              "    </tr>\n",
              "    <tr>\n",
              "      <th>B</th>\n",
              "      <td>BX</td>\n",
              "      <td>BY</td>\n",
              "      <td>NaN</td>\n",
              "      <td>NaN</td>\n",
              "    </tr>\n",
              "    <tr>\n",
              "      <th>C</th>\n",
              "      <td>NaN</td>\n",
              "      <td>NaN</td>\n",
              "      <td>CX</td>\n",
              "      <td>CZ</td>\n",
              "    </tr>\n",
              "  </tbody>\n",
              "</table>\n",
              "</div>"
            ],
            "text/plain": [
              "     X    Y    X    Z\n",
              "A   AX   AY   AX   AZ\n",
              "B   BX   BY  NaN  NaN\n",
              "C  NaN  NaN   CX   CZ"
            ]
          },
          "metadata": {
            "tags": []
          },
          "execution_count": 12
        }
      ]
    },
    {
      "cell_type": "markdown",
      "metadata": {
        "id": "Qw7TWxDaMmc_"
      },
      "source": [
        "## merge"
      ]
    },
    {
      "cell_type": "markdown",
      "metadata": {
        "id": "fauvXZADOAdu"
      },
      "source": [
        "inner-join"
      ]
    },
    {
      "cell_type": "markdown",
      "metadata": {
        "id": "IwmvY7HOMp3_"
      },
      "source": [
        "공통된 부분을 기반으로 합치기가 주요 용도"
      ]
    },
    {
      "cell_type": "code",
      "metadata": {
        "colab": {
          "base_uri": "https://localhost:8080/",
          "height": 254
        },
        "id": "r5nJu_bDNkei",
        "outputId": "18ef2d55-206e-4f3a-d544-e969e3ea9453"
      },
      "source": [
        "df1 = pd.DataFrame(\n",
        "    {'종목' : ['000080', '000890', '005300', '027740', '035810', '136480', '136490'],\n",
        "     '코드': ['111111', '2222222', '3333333', '4444444', '5555555', '6666666', '777777'], \n",
        "     '매출' : ['10억', '20억', '1억', '5억', '200억', '2000억', '7777억']}\n",
        ")\n",
        "df1"
      ],
      "execution_count": 16,
      "outputs": [
        {
          "output_type": "execute_result",
          "data": {
            "text/html": [
              "<div>\n",
              "<style scoped>\n",
              "    .dataframe tbody tr th:only-of-type {\n",
              "        vertical-align: middle;\n",
              "    }\n",
              "\n",
              "    .dataframe tbody tr th {\n",
              "        vertical-align: top;\n",
              "    }\n",
              "\n",
              "    .dataframe thead th {\n",
              "        text-align: right;\n",
              "    }\n",
              "</style>\n",
              "<table border=\"1\" class=\"dataframe\">\n",
              "  <thead>\n",
              "    <tr style=\"text-align: right;\">\n",
              "      <th></th>\n",
              "      <th>종목</th>\n",
              "      <th>코드</th>\n",
              "      <th>매출</th>\n",
              "    </tr>\n",
              "  </thead>\n",
              "  <tbody>\n",
              "    <tr>\n",
              "      <th>0</th>\n",
              "      <td>000080</td>\n",
              "      <td>111111</td>\n",
              "      <td>10억</td>\n",
              "    </tr>\n",
              "    <tr>\n",
              "      <th>1</th>\n",
              "      <td>000890</td>\n",
              "      <td>2222222</td>\n",
              "      <td>20억</td>\n",
              "    </tr>\n",
              "    <tr>\n",
              "      <th>2</th>\n",
              "      <td>005300</td>\n",
              "      <td>3333333</td>\n",
              "      <td>1억</td>\n",
              "    </tr>\n",
              "    <tr>\n",
              "      <th>3</th>\n",
              "      <td>027740</td>\n",
              "      <td>4444444</td>\n",
              "      <td>5억</td>\n",
              "    </tr>\n",
              "    <tr>\n",
              "      <th>4</th>\n",
              "      <td>035810</td>\n",
              "      <td>5555555</td>\n",
              "      <td>200억</td>\n",
              "    </tr>\n",
              "    <tr>\n",
              "      <th>5</th>\n",
              "      <td>136480</td>\n",
              "      <td>6666666</td>\n",
              "      <td>2000억</td>\n",
              "    </tr>\n",
              "    <tr>\n",
              "      <th>6</th>\n",
              "      <td>136490</td>\n",
              "      <td>777777</td>\n",
              "      <td>7777억</td>\n",
              "    </tr>\n",
              "  </tbody>\n",
              "</table>\n",
              "</div>"
            ],
            "text/plain": [
              "       종목       코드     매출\n",
              "0  000080   111111    10억\n",
              "1  000890  2222222    20억\n",
              "2  005300  3333333     1억\n",
              "3  027740  4444444     5억\n",
              "4  035810  5555555   200억\n",
              "5  136480  6666666  2000억\n",
              "6  136490   777777  7777억"
            ]
          },
          "metadata": {
            "tags": []
          },
          "execution_count": 16
        }
      ]
    },
    {
      "cell_type": "code",
      "metadata": {
        "colab": {
          "base_uri": "https://localhost:8080/",
          "height": 254
        },
        "id": "0qCfsNJkMnZl",
        "outputId": "dd04c6f7-057d-4705-a034-d2a3a700b600"
      },
      "source": [
        "df2 = pd.DataFrame(\n",
        "    {'종목' : ['000080', '000890', '005300', '027740', '035810', '136480', '136490'],\n",
        "     '종목명': ['하이트진로', '보해양조', '롯데칠성', '마니커', '이지홀딩스', '하림', '선진'], \n",
        "     '테마' : ['주류', '주류', '주류', '육계', '육계', '육계', '돼지고기']}\n",
        ")\n",
        "df2"
      ],
      "execution_count": 17,
      "outputs": [
        {
          "output_type": "execute_result",
          "data": {
            "text/html": [
              "<div>\n",
              "<style scoped>\n",
              "    .dataframe tbody tr th:only-of-type {\n",
              "        vertical-align: middle;\n",
              "    }\n",
              "\n",
              "    .dataframe tbody tr th {\n",
              "        vertical-align: top;\n",
              "    }\n",
              "\n",
              "    .dataframe thead th {\n",
              "        text-align: right;\n",
              "    }\n",
              "</style>\n",
              "<table border=\"1\" class=\"dataframe\">\n",
              "  <thead>\n",
              "    <tr style=\"text-align: right;\">\n",
              "      <th></th>\n",
              "      <th>종목</th>\n",
              "      <th>종목명</th>\n",
              "      <th>테마</th>\n",
              "    </tr>\n",
              "  </thead>\n",
              "  <tbody>\n",
              "    <tr>\n",
              "      <th>0</th>\n",
              "      <td>000080</td>\n",
              "      <td>하이트진로</td>\n",
              "      <td>주류</td>\n",
              "    </tr>\n",
              "    <tr>\n",
              "      <th>1</th>\n",
              "      <td>000890</td>\n",
              "      <td>보해양조</td>\n",
              "      <td>주류</td>\n",
              "    </tr>\n",
              "    <tr>\n",
              "      <th>2</th>\n",
              "      <td>005300</td>\n",
              "      <td>롯데칠성</td>\n",
              "      <td>주류</td>\n",
              "    </tr>\n",
              "    <tr>\n",
              "      <th>3</th>\n",
              "      <td>027740</td>\n",
              "      <td>마니커</td>\n",
              "      <td>육계</td>\n",
              "    </tr>\n",
              "    <tr>\n",
              "      <th>4</th>\n",
              "      <td>035810</td>\n",
              "      <td>이지홀딩스</td>\n",
              "      <td>육계</td>\n",
              "    </tr>\n",
              "    <tr>\n",
              "      <th>5</th>\n",
              "      <td>136480</td>\n",
              "      <td>하림</td>\n",
              "      <td>육계</td>\n",
              "    </tr>\n",
              "    <tr>\n",
              "      <th>6</th>\n",
              "      <td>136490</td>\n",
              "      <td>선진</td>\n",
              "      <td>돼지고기</td>\n",
              "    </tr>\n",
              "  </tbody>\n",
              "</table>\n",
              "</div>"
            ],
            "text/plain": [
              "       종목    종목명    테마\n",
              "0  000080  하이트진로    주류\n",
              "1  000890   보해양조    주류\n",
              "2  005300   롯데칠성    주류\n",
              "3  027740    마니커    육계\n",
              "4  035810  이지홀딩스    육계\n",
              "5  136480     하림    육계\n",
              "6  136490     선진  돼지고기"
            ]
          },
          "metadata": {
            "tags": []
          },
          "execution_count": 17
        }
      ]
    },
    {
      "cell_type": "code",
      "metadata": {
        "colab": {
          "base_uri": "https://localhost:8080/",
          "height": 254
        },
        "id": "1uTo30gfN01h",
        "outputId": "dd006c11-7b06-401e-df3c-1c7e1187a225"
      },
      "source": [
        "pd.concat([df1, df2], axis = 1)\n"
      ],
      "execution_count": 19,
      "outputs": [
        {
          "output_type": "execute_result",
          "data": {
            "text/html": [
              "<div>\n",
              "<style scoped>\n",
              "    .dataframe tbody tr th:only-of-type {\n",
              "        vertical-align: middle;\n",
              "    }\n",
              "\n",
              "    .dataframe tbody tr th {\n",
              "        vertical-align: top;\n",
              "    }\n",
              "\n",
              "    .dataframe thead th {\n",
              "        text-align: right;\n",
              "    }\n",
              "</style>\n",
              "<table border=\"1\" class=\"dataframe\">\n",
              "  <thead>\n",
              "    <tr style=\"text-align: right;\">\n",
              "      <th></th>\n",
              "      <th>종목</th>\n",
              "      <th>코드</th>\n",
              "      <th>매출</th>\n",
              "      <th>종목</th>\n",
              "      <th>종목명</th>\n",
              "      <th>테마</th>\n",
              "    </tr>\n",
              "  </thead>\n",
              "  <tbody>\n",
              "    <tr>\n",
              "      <th>0</th>\n",
              "      <td>000080</td>\n",
              "      <td>111111</td>\n",
              "      <td>10억</td>\n",
              "      <td>000080</td>\n",
              "      <td>하이트진로</td>\n",
              "      <td>주류</td>\n",
              "    </tr>\n",
              "    <tr>\n",
              "      <th>1</th>\n",
              "      <td>000890</td>\n",
              "      <td>2222222</td>\n",
              "      <td>20억</td>\n",
              "      <td>000890</td>\n",
              "      <td>보해양조</td>\n",
              "      <td>주류</td>\n",
              "    </tr>\n",
              "    <tr>\n",
              "      <th>2</th>\n",
              "      <td>005300</td>\n",
              "      <td>3333333</td>\n",
              "      <td>1억</td>\n",
              "      <td>005300</td>\n",
              "      <td>롯데칠성</td>\n",
              "      <td>주류</td>\n",
              "    </tr>\n",
              "    <tr>\n",
              "      <th>3</th>\n",
              "      <td>027740</td>\n",
              "      <td>4444444</td>\n",
              "      <td>5억</td>\n",
              "      <td>027740</td>\n",
              "      <td>마니커</td>\n",
              "      <td>육계</td>\n",
              "    </tr>\n",
              "    <tr>\n",
              "      <th>4</th>\n",
              "      <td>035810</td>\n",
              "      <td>5555555</td>\n",
              "      <td>200억</td>\n",
              "      <td>035810</td>\n",
              "      <td>이지홀딩스</td>\n",
              "      <td>육계</td>\n",
              "    </tr>\n",
              "    <tr>\n",
              "      <th>5</th>\n",
              "      <td>136480</td>\n",
              "      <td>6666666</td>\n",
              "      <td>2000억</td>\n",
              "      <td>136480</td>\n",
              "      <td>하림</td>\n",
              "      <td>육계</td>\n",
              "    </tr>\n",
              "    <tr>\n",
              "      <th>6</th>\n",
              "      <td>136490</td>\n",
              "      <td>777777</td>\n",
              "      <td>7777억</td>\n",
              "      <td>136490</td>\n",
              "      <td>선진</td>\n",
              "      <td>돼지고기</td>\n",
              "    </tr>\n",
              "  </tbody>\n",
              "</table>\n",
              "</div>"
            ],
            "text/plain": [
              "       종목       코드     매출      종목    종목명    테마\n",
              "0  000080   111111    10억  000080  하이트진로    주류\n",
              "1  000890  2222222    20억  000890   보해양조    주류\n",
              "2  005300  3333333     1억  005300   롯데칠성    주류\n",
              "3  027740  4444444     5억  027740    마니커    육계\n",
              "4  035810  5555555   200억  035810  이지홀딩스    육계\n",
              "5  136480  6666666  2000억  136480     하림    육계\n",
              "6  136490   777777  7777억  136490     선진  돼지고기"
            ]
          },
          "metadata": {
            "tags": []
          },
          "execution_count": 19
        }
      ]
    },
    {
      "cell_type": "code",
      "metadata": {
        "colab": {
          "base_uri": "https://localhost:8080/",
          "height": 254
        },
        "id": "PHO_yKo7N6jr",
        "outputId": "71cb11c6-e4c5-4366-b107-e4e640c3cf53"
      },
      "source": [
        "df = df1.merge(df2, how = 'inner', on = '종목')\n",
        "df"
      ],
      "execution_count": 20,
      "outputs": [
        {
          "output_type": "execute_result",
          "data": {
            "text/html": [
              "<div>\n",
              "<style scoped>\n",
              "    .dataframe tbody tr th:only-of-type {\n",
              "        vertical-align: middle;\n",
              "    }\n",
              "\n",
              "    .dataframe tbody tr th {\n",
              "        vertical-align: top;\n",
              "    }\n",
              "\n",
              "    .dataframe thead th {\n",
              "        text-align: right;\n",
              "    }\n",
              "</style>\n",
              "<table border=\"1\" class=\"dataframe\">\n",
              "  <thead>\n",
              "    <tr style=\"text-align: right;\">\n",
              "      <th></th>\n",
              "      <th>종목</th>\n",
              "      <th>코드</th>\n",
              "      <th>매출</th>\n",
              "      <th>종목명</th>\n",
              "      <th>테마</th>\n",
              "    </tr>\n",
              "  </thead>\n",
              "  <tbody>\n",
              "    <tr>\n",
              "      <th>0</th>\n",
              "      <td>000080</td>\n",
              "      <td>111111</td>\n",
              "      <td>10억</td>\n",
              "      <td>하이트진로</td>\n",
              "      <td>주류</td>\n",
              "    </tr>\n",
              "    <tr>\n",
              "      <th>1</th>\n",
              "      <td>000890</td>\n",
              "      <td>2222222</td>\n",
              "      <td>20억</td>\n",
              "      <td>보해양조</td>\n",
              "      <td>주류</td>\n",
              "    </tr>\n",
              "    <tr>\n",
              "      <th>2</th>\n",
              "      <td>005300</td>\n",
              "      <td>3333333</td>\n",
              "      <td>1억</td>\n",
              "      <td>롯데칠성</td>\n",
              "      <td>주류</td>\n",
              "    </tr>\n",
              "    <tr>\n",
              "      <th>3</th>\n",
              "      <td>027740</td>\n",
              "      <td>4444444</td>\n",
              "      <td>5억</td>\n",
              "      <td>마니커</td>\n",
              "      <td>육계</td>\n",
              "    </tr>\n",
              "    <tr>\n",
              "      <th>4</th>\n",
              "      <td>035810</td>\n",
              "      <td>5555555</td>\n",
              "      <td>200억</td>\n",
              "      <td>이지홀딩스</td>\n",
              "      <td>육계</td>\n",
              "    </tr>\n",
              "    <tr>\n",
              "      <th>5</th>\n",
              "      <td>136480</td>\n",
              "      <td>6666666</td>\n",
              "      <td>2000억</td>\n",
              "      <td>하림</td>\n",
              "      <td>육계</td>\n",
              "    </tr>\n",
              "    <tr>\n",
              "      <th>6</th>\n",
              "      <td>136490</td>\n",
              "      <td>777777</td>\n",
              "      <td>7777억</td>\n",
              "      <td>선진</td>\n",
              "      <td>돼지고기</td>\n",
              "    </tr>\n",
              "  </tbody>\n",
              "</table>\n",
              "</div>"
            ],
            "text/plain": [
              "       종목       코드     매출    종목명    테마\n",
              "0  000080   111111    10억  하이트진로    주류\n",
              "1  000890  2222222    20억   보해양조    주류\n",
              "2  005300  3333333     1억   롯데칠성    주류\n",
              "3  027740  4444444     5억    마니커    육계\n",
              "4  035810  5555555   200억  이지홀딩스    육계\n",
              "5  136480  6666666  2000억     하림    육계\n",
              "6  136490   777777  7777억     선진  돼지고기"
            ]
          },
          "metadata": {
            "tags": []
          },
          "execution_count": 20
        }
      ]
    },
    {
      "cell_type": "markdown",
      "metadata": {
        "id": "2MBkVMaWPrZ_"
      },
      "source": [
        "## isin"
      ]
    },
    {
      "cell_type": "code",
      "metadata": {
        "id": "CRuxkIYrPydN"
      },
      "source": [
        "df_isin = df[df['테마'].isin(['주류'])]"
      ],
      "execution_count": 21,
      "outputs": []
    },
    {
      "cell_type": "code",
      "metadata": {
        "colab": {
          "base_uri": "https://localhost:8080/",
          "height": 136
        },
        "id": "WMydVv8JP3ox",
        "outputId": "e0cda26d-c357-4744-be56-885afdc94124"
      },
      "source": [
        "df_isin"
      ],
      "execution_count": 22,
      "outputs": [
        {
          "output_type": "execute_result",
          "data": {
            "text/html": [
              "<div>\n",
              "<style scoped>\n",
              "    .dataframe tbody tr th:only-of-type {\n",
              "        vertical-align: middle;\n",
              "    }\n",
              "\n",
              "    .dataframe tbody tr th {\n",
              "        vertical-align: top;\n",
              "    }\n",
              "\n",
              "    .dataframe thead th {\n",
              "        text-align: right;\n",
              "    }\n",
              "</style>\n",
              "<table border=\"1\" class=\"dataframe\">\n",
              "  <thead>\n",
              "    <tr style=\"text-align: right;\">\n",
              "      <th></th>\n",
              "      <th>종목</th>\n",
              "      <th>코드</th>\n",
              "      <th>매출</th>\n",
              "      <th>종목명</th>\n",
              "      <th>테마</th>\n",
              "    </tr>\n",
              "  </thead>\n",
              "  <tbody>\n",
              "    <tr>\n",
              "      <th>0</th>\n",
              "      <td>000080</td>\n",
              "      <td>111111</td>\n",
              "      <td>10억</td>\n",
              "      <td>하이트진로</td>\n",
              "      <td>주류</td>\n",
              "    </tr>\n",
              "    <tr>\n",
              "      <th>1</th>\n",
              "      <td>000890</td>\n",
              "      <td>2222222</td>\n",
              "      <td>20억</td>\n",
              "      <td>보해양조</td>\n",
              "      <td>주류</td>\n",
              "    </tr>\n",
              "    <tr>\n",
              "      <th>2</th>\n",
              "      <td>005300</td>\n",
              "      <td>3333333</td>\n",
              "      <td>1억</td>\n",
              "      <td>롯데칠성</td>\n",
              "      <td>주류</td>\n",
              "    </tr>\n",
              "  </tbody>\n",
              "</table>\n",
              "</div>"
            ],
            "text/plain": [
              "       종목       코드   매출    종목명  테마\n",
              "0  000080   111111  10억  하이트진로  주류\n",
              "1  000890  2222222  20억   보해양조  주류\n",
              "2  005300  3333333   1억   롯데칠성  주류"
            ]
          },
          "metadata": {
            "tags": []
          },
          "execution_count": 22
        }
      ]
    },
    {
      "cell_type": "markdown",
      "metadata": {
        "id": "UCtXRupxP5st"
      },
      "source": [
        "## groupby"
      ]
    },
    {
      "cell_type": "code",
      "metadata": {
        "colab": {
          "base_uri": "https://localhost:8080/"
        },
        "id": "4uiEv_wWP9Eg",
        "outputId": "07de1273-fefd-4c0a-ee57-f0acec36d78e"
      },
      "source": [
        "df['코드'] = pd.to_numeric(df['코드'])\n",
        "\n",
        "df.groupby('테마').코드.mean()"
      ],
      "execution_count": 25,
      "outputs": [
        {
          "output_type": "execute_result",
          "data": {
            "text/plain": [
              "테마\n",
              "돼지고기    7.777770e+05\n",
              "육계      5.555555e+06\n",
              "주류      1.888889e+06\n",
              "Name: 코드, dtype: float64"
            ]
          },
          "metadata": {
            "tags": []
          },
          "execution_count": 25
        }
      ]
    },
    {
      "cell_type": "markdown",
      "metadata": {
        "id": "UydLXgo_QZ2n"
      },
      "source": [
        "# Tidy Data"
      ]
    },
    {
      "cell_type": "markdown",
      "metadata": {
        "id": "5zI1ORO_Q0NA"
      },
      "source": [
        "## melt , pivot_table"
      ]
    },
    {
      "cell_type": "markdown",
      "metadata": {
        "id": "yaoDc4K8QnBa"
      },
      "source": [
        "데이터 형태 변환\n",
        "\n",
        "데이터시각화에 쓰이는 Seaborn 라이브러리는 \"Tidy\"한 데이터를 필요로 합니다"
      ]
    },
    {
      "cell_type": "code",
      "metadata": {
        "colab": {
          "base_uri": "https://localhost:8080/",
          "height": 136
        },
        "id": "UX8c3gZxQrnP",
        "outputId": "03b6701f-35e6-4a05-bf4f-1b31554242f4"
      },
      "source": [
        "%matplotlib inline\n",
        "import pandas as pd\n",
        "import numpy as np\n",
        "import seaborn as sns\n",
        "\n",
        "table1 = pd.DataFrame(\n",
        "    [[np.nan, 2],\n",
        "     [16,    11], \n",
        "     [3,      1]],\n",
        "    index=['X', 'Y', 'Z'], \n",
        "    columns=['A', 'B'])\n",
        "\n",
        "table1\n"
      ],
      "execution_count": 26,
      "outputs": [
        {
          "output_type": "execute_result",
          "data": {
            "text/html": [
              "<div>\n",
              "<style scoped>\n",
              "    .dataframe tbody tr th:only-of-type {\n",
              "        vertical-align: middle;\n",
              "    }\n",
              "\n",
              "    .dataframe tbody tr th {\n",
              "        vertical-align: top;\n",
              "    }\n",
              "\n",
              "    .dataframe thead th {\n",
              "        text-align: right;\n",
              "    }\n",
              "</style>\n",
              "<table border=\"1\" class=\"dataframe\">\n",
              "  <thead>\n",
              "    <tr style=\"text-align: right;\">\n",
              "      <th></th>\n",
              "      <th>A</th>\n",
              "      <th>B</th>\n",
              "    </tr>\n",
              "  </thead>\n",
              "  <tbody>\n",
              "    <tr>\n",
              "      <th>X</th>\n",
              "      <td>NaN</td>\n",
              "      <td>2</td>\n",
              "    </tr>\n",
              "    <tr>\n",
              "      <th>Y</th>\n",
              "      <td>16.0</td>\n",
              "      <td>11</td>\n",
              "    </tr>\n",
              "    <tr>\n",
              "      <th>Z</th>\n",
              "      <td>3.0</td>\n",
              "      <td>1</td>\n",
              "    </tr>\n",
              "  </tbody>\n",
              "</table>\n",
              "</div>"
            ],
            "text/plain": [
              "      A   B\n",
              "X   NaN   2\n",
              "Y  16.0  11\n",
              "Z   3.0   1"
            ]
          },
          "metadata": {
            "tags": []
          },
          "execution_count": 26
        }
      ]
    },
    {
      "cell_type": "markdown",
      "metadata": {
        "id": "R54-Xk0eQt6k"
      },
      "source": [
        "## wide -> tidy"
      ]
    },
    {
      "cell_type": "code",
      "metadata": {
        "colab": {
          "base_uri": "https://localhost:8080/",
          "height": 136
        },
        "id": "a6lZl098Q5Rw",
        "outputId": "6b7f40d0-1dc8-4461-ca45-806496a8d1a8"
      },
      "source": [
        "### 행의 인덱스를 선택하고, 이를 행으로 새로 추가합니다.\n",
        "tidy1 = table1.reset_index() # rownames를 새로 설정 \n",
        "tidy1\n"
      ],
      "execution_count": 28,
      "outputs": [
        {
          "output_type": "execute_result",
          "data": {
            "text/html": [
              "<div>\n",
              "<style scoped>\n",
              "    .dataframe tbody tr th:only-of-type {\n",
              "        vertical-align: middle;\n",
              "    }\n",
              "\n",
              "    .dataframe tbody tr th {\n",
              "        vertical-align: top;\n",
              "    }\n",
              "\n",
              "    .dataframe thead th {\n",
              "        text-align: right;\n",
              "    }\n",
              "</style>\n",
              "<table border=\"1\" class=\"dataframe\">\n",
              "  <thead>\n",
              "    <tr style=\"text-align: right;\">\n",
              "      <th></th>\n",
              "      <th>index</th>\n",
              "      <th>A</th>\n",
              "      <th>B</th>\n",
              "    </tr>\n",
              "  </thead>\n",
              "  <tbody>\n",
              "    <tr>\n",
              "      <th>0</th>\n",
              "      <td>X</td>\n",
              "      <td>NaN</td>\n",
              "      <td>2</td>\n",
              "    </tr>\n",
              "    <tr>\n",
              "      <th>1</th>\n",
              "      <td>Y</td>\n",
              "      <td>16.0</td>\n",
              "      <td>11</td>\n",
              "    </tr>\n",
              "    <tr>\n",
              "      <th>2</th>\n",
              "      <td>Z</td>\n",
              "      <td>3.0</td>\n",
              "      <td>1</td>\n",
              "    </tr>\n",
              "  </tbody>\n",
              "</table>\n",
              "</div>"
            ],
            "text/plain": [
              "  index     A   B\n",
              "0     X   NaN   2\n",
              "1     Y  16.0  11\n",
              "2     Z   3.0   1"
            ]
          },
          "metadata": {
            "tags": []
          },
          "execution_count": 28
        }
      ]
    },
    {
      "cell_type": "code",
      "metadata": {
        "colab": {
          "base_uri": "https://localhost:8080/",
          "height": 225
        },
        "id": "8DD-oNAGRCKA",
        "outputId": "984e0be4-8135-43bc-f1be-5e5a21333ca8"
      },
      "source": [
        "### 각 행에 대해서 (unique identifier)를 확인합니다.\n",
        "### 한개의 \"tidy\" 한 열에 대해서 포함되어야 할 (기준이 되는) 데이터를 선택합니다.\n",
        "tidy1 = tidy1.melt(id_vars = 'index', value_vars = ['A', 'B'])\n",
        "tidy1\n"
      ],
      "execution_count": 29,
      "outputs": [
        {
          "output_type": "execute_result",
          "data": {
            "text/html": [
              "<div>\n",
              "<style scoped>\n",
              "    .dataframe tbody tr th:only-of-type {\n",
              "        vertical-align: middle;\n",
              "    }\n",
              "\n",
              "    .dataframe tbody tr th {\n",
              "        vertical-align: top;\n",
              "    }\n",
              "\n",
              "    .dataframe thead th {\n",
              "        text-align: right;\n",
              "    }\n",
              "</style>\n",
              "<table border=\"1\" class=\"dataframe\">\n",
              "  <thead>\n",
              "    <tr style=\"text-align: right;\">\n",
              "      <th></th>\n",
              "      <th>index</th>\n",
              "      <th>variable</th>\n",
              "      <th>value</th>\n",
              "    </tr>\n",
              "  </thead>\n",
              "  <tbody>\n",
              "    <tr>\n",
              "      <th>0</th>\n",
              "      <td>X</td>\n",
              "      <td>A</td>\n",
              "      <td>NaN</td>\n",
              "    </tr>\n",
              "    <tr>\n",
              "      <th>1</th>\n",
              "      <td>Y</td>\n",
              "      <td>A</td>\n",
              "      <td>16.0</td>\n",
              "    </tr>\n",
              "    <tr>\n",
              "      <th>2</th>\n",
              "      <td>Z</td>\n",
              "      <td>A</td>\n",
              "      <td>3.0</td>\n",
              "    </tr>\n",
              "    <tr>\n",
              "      <th>3</th>\n",
              "      <td>X</td>\n",
              "      <td>B</td>\n",
              "      <td>2.0</td>\n",
              "    </tr>\n",
              "    <tr>\n",
              "      <th>4</th>\n",
              "      <td>Y</td>\n",
              "      <td>B</td>\n",
              "      <td>11.0</td>\n",
              "    </tr>\n",
              "    <tr>\n",
              "      <th>5</th>\n",
              "      <td>Z</td>\n",
              "      <td>B</td>\n",
              "      <td>1.0</td>\n",
              "    </tr>\n",
              "  </tbody>\n",
              "</table>\n",
              "</div>"
            ],
            "text/plain": [
              "  index variable  value\n",
              "0     X        A    NaN\n",
              "1     Y        A   16.0\n",
              "2     Z        A    3.0\n",
              "3     X        B    2.0\n",
              "4     Y        B   11.0\n",
              "5     Z        B    1.0"
            ]
          },
          "metadata": {
            "tags": []
          },
          "execution_count": 29
        }
      ]
    },
    {
      "cell_type": "code",
      "metadata": {
        "colab": {
          "base_uri": "https://localhost:8080/",
          "height": 225
        },
        "id": "ppozKVcxRfWx",
        "outputId": "afa232fa-e5a4-400f-ca77-5fdc7390c347"
      },
      "source": [
        "# 열의 이름을 수정합니다.\n",
        "tidy1 = tidy1.rename(\n",
        "    columns = {\n",
        "        'index': 'row', \n",
        "        'variable': 'column', \n",
        "        'value': 'value'\n",
        "        }\n",
        ")\n",
        "tidy1"
      ],
      "execution_count": 31,
      "outputs": [
        {
          "output_type": "execute_result",
          "data": {
            "text/html": [
              "<div>\n",
              "<style scoped>\n",
              "    .dataframe tbody tr th:only-of-type {\n",
              "        vertical-align: middle;\n",
              "    }\n",
              "\n",
              "    .dataframe tbody tr th {\n",
              "        vertical-align: top;\n",
              "    }\n",
              "\n",
              "    .dataframe thead th {\n",
              "        text-align: right;\n",
              "    }\n",
              "</style>\n",
              "<table border=\"1\" class=\"dataframe\">\n",
              "  <thead>\n",
              "    <tr style=\"text-align: right;\">\n",
              "      <th></th>\n",
              "      <th>row</th>\n",
              "      <th>column</th>\n",
              "      <th>value</th>\n",
              "    </tr>\n",
              "  </thead>\n",
              "  <tbody>\n",
              "    <tr>\n",
              "      <th>0</th>\n",
              "      <td>X</td>\n",
              "      <td>A</td>\n",
              "      <td>NaN</td>\n",
              "    </tr>\n",
              "    <tr>\n",
              "      <th>1</th>\n",
              "      <td>Y</td>\n",
              "      <td>A</td>\n",
              "      <td>16.0</td>\n",
              "    </tr>\n",
              "    <tr>\n",
              "      <th>2</th>\n",
              "      <td>Z</td>\n",
              "      <td>A</td>\n",
              "      <td>3.0</td>\n",
              "    </tr>\n",
              "    <tr>\n",
              "      <th>3</th>\n",
              "      <td>X</td>\n",
              "      <td>B</td>\n",
              "      <td>2.0</td>\n",
              "    </tr>\n",
              "    <tr>\n",
              "      <th>4</th>\n",
              "      <td>Y</td>\n",
              "      <td>B</td>\n",
              "      <td>11.0</td>\n",
              "    </tr>\n",
              "    <tr>\n",
              "      <th>5</th>\n",
              "      <td>Z</td>\n",
              "      <td>B</td>\n",
              "      <td>1.0</td>\n",
              "    </tr>\n",
              "  </tbody>\n",
              "</table>\n",
              "</div>"
            ],
            "text/plain": [
              "  row column  value\n",
              "0   X      A    NaN\n",
              "1   Y      A   16.0\n",
              "2   Z      A    3.0\n",
              "3   X      B    2.0\n",
              "4   Y      B   11.0\n",
              "5   Z      B    1.0"
            ]
          },
          "metadata": {
            "tags": []
          },
          "execution_count": 31
        }
      ]
    },
    {
      "cell_type": "markdown",
      "metadata": {
        "id": "V17wZ6ggRZU7"
      },
      "source": [
        "## tidy -> wide"
      ]
    },
    {
      "cell_type": "code",
      "metadata": {
        "colab": {
          "base_uri": "https://localhost:8080/",
          "height": 166
        },
        "id": "p_td9hkyRa1r",
        "outputId": "04e15fa4-541b-465e-a7be-96f2019a2666"
      },
      "source": [
        "# 파라미터에 대한 설명\n",
        "# index: unique identifier\n",
        "# columns: \"wide\" 데이터에서 column별로 다르게 하고자 하는 값.\n",
        "# values: 결과값이 들어가는 곳 (wide 데이터프레임의 내용에 들어갈 값)\n",
        "wide = tidy1.pivot_table(index = 'row', columns = 'column', values = 'value')\n",
        "wide"
      ],
      "execution_count": 32,
      "outputs": [
        {
          "output_type": "execute_result",
          "data": {
            "text/html": [
              "<div>\n",
              "<style scoped>\n",
              "    .dataframe tbody tr th:only-of-type {\n",
              "        vertical-align: middle;\n",
              "    }\n",
              "\n",
              "    .dataframe tbody tr th {\n",
              "        vertical-align: top;\n",
              "    }\n",
              "\n",
              "    .dataframe thead th {\n",
              "        text-align: right;\n",
              "    }\n",
              "</style>\n",
              "<table border=\"1\" class=\"dataframe\">\n",
              "  <thead>\n",
              "    <tr style=\"text-align: right;\">\n",
              "      <th>column</th>\n",
              "      <th>A</th>\n",
              "      <th>B</th>\n",
              "    </tr>\n",
              "    <tr>\n",
              "      <th>row</th>\n",
              "      <th></th>\n",
              "      <th></th>\n",
              "    </tr>\n",
              "  </thead>\n",
              "  <tbody>\n",
              "    <tr>\n",
              "      <th>X</th>\n",
              "      <td>NaN</td>\n",
              "      <td>2.0</td>\n",
              "    </tr>\n",
              "    <tr>\n",
              "      <th>Y</th>\n",
              "      <td>16.0</td>\n",
              "      <td>11.0</td>\n",
              "    </tr>\n",
              "    <tr>\n",
              "      <th>Z</th>\n",
              "      <td>3.0</td>\n",
              "      <td>1.0</td>\n",
              "    </tr>\n",
              "  </tbody>\n",
              "</table>\n",
              "</div>"
            ],
            "text/plain": [
              "column     A     B\n",
              "row               \n",
              "X        NaN   2.0\n",
              "Y       16.0  11.0\n",
              "Z        3.0   1.0"
            ]
          },
          "metadata": {
            "tags": []
          },
          "execution_count": 32
        }
      ]
    },
    {
      "cell_type": "markdown",
      "metadata": {
        "id": "lRgrKut-Rj8D"
      },
      "source": [
        "\n",
        "\n",
        "---\n",
        "\n"
      ]
    }
  ]
}